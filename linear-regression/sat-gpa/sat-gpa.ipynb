{
 "cells": [
  {
   "cell_type": "markdown",
   "id": "major-chuck",
   "metadata": {},
   "source": [
    "## 問題"
   ]
  },
  {
   "cell_type": "code",
   "execution_count": 1,
   "id": "crazy-intention",
   "metadata": {},
   "outputs": [
    {
     "data": {
      "image/png": "[encoded data removed]",
      "text/plain": [
       "<IPython.core.display.Image object>"
      ]
     },
     "execution_count": 1,
     "metadata": {},
     "output_type": "execute_result"
    }
   ],
   "source": [
    "from IPython.display import Image\n",
    "Image('sat-gpa.png')"
   ]
  },
  {
   "cell_type": "markdown",
   "id": "elect-programmer",
   "metadata": {},
   "source": [
    "## 解答"
   ]
  },
  {
   "cell_type": "code",
   "execution_count": 2,
   "id": "necessary-phone",
   "metadata": {},
   "outputs": [],
   "source": [
    "import pandas as pd\n",
    "import numpy as np\n",
    "import matplotlib.pyplot as plt"
   ]
  },
  {
   "cell_type": "code",
   "execution_count": 3,
   "id": "aerial-coating",
   "metadata": {},
   "outputs": [
    {
     "data": {
      "text/html": [
       "<div>\n",
       "<style scoped>\n",
       "    .dataframe tbody tr th:only-of-type {\n",
       "        vertical-align: middle;\n",
       "    }\n",
       "\n",
       "    .dataframe tbody tr th {\n",
       "        vertical-align: top;\n",
       "    }\n",
       "\n",
       "    .dataframe thead th {\n",
       "        text-align: right;\n",
       "    }\n",
       "</style>\n",
       "<table border=\"1\" class=\"dataframe\">\n",
       "  <thead>\n",
       "    <tr style=\"text-align: right;\">\n",
       "      <th></th>\n",
       "      <th>MathSAT</th>\n",
       "      <th>VerbalSAT</th>\n",
       "      <th>GPA</th>\n",
       "    </tr>\n",
       "  </thead>\n",
       "  <tbody>\n",
       "    <tr>\n",
       "      <th>1</th>\n",
       "      <td>580</td>\n",
       "      <td>420</td>\n",
       "      <td>2.90</td>\n",
       "    </tr>\n",
       "    <tr>\n",
       "      <th>2</th>\n",
       "      <td>670</td>\n",
       "      <td>530</td>\n",
       "      <td>2.83</td>\n",
       "    </tr>\n",
       "    <tr>\n",
       "      <th>3</th>\n",
       "      <td>680</td>\n",
       "      <td>540</td>\n",
       "      <td>2.90</td>\n",
       "    </tr>\n",
       "    <tr>\n",
       "      <th>4</th>\n",
       "      <td>630</td>\n",
       "      <td>640</td>\n",
       "      <td>3.30</td>\n",
       "    </tr>\n",
       "    <tr>\n",
       "      <th>5</th>\n",
       "      <td>620</td>\n",
       "      <td>630</td>\n",
       "      <td>3.61</td>\n",
       "    </tr>\n",
       "  </tbody>\n",
       "</table>\n",
       "</div>"
      ],
      "text/plain": [
       "   MathSAT  VerbalSAT   GPA\n",
       "1      580        420  2.90\n",
       "2      670        530  2.83\n",
       "3      680        540  2.90\n",
       "4      630        640  3.30\n",
       "5      620        630  3.61"
      ]
     },
     "execution_count": 3,
     "metadata": {},
     "output_type": "execute_result"
    }
   ],
   "source": [
    "df = pd.read_csv('SATGPA.csv', index_col=0)\n",
    "df.head()"
   ]
  },
  {
   "cell_type": "code",
   "execution_count": 4,
   "id": "worthy-control",
   "metadata": {},
   "outputs": [
    {
     "name": "stdout",
     "output_type": "stream",
     "text": [
      "X:\n",
      "    MathSAT  VerbalSAT\n",
      "1      580        420\n",
      "2      670        530 \n",
      "\n",
      "y:\n",
      " 1    2.90\n",
      "2    2.83\n",
      "Name: GPA, dtype: float64\n"
     ]
    }
   ],
   "source": [
    "X = df[['MathSAT', 'VerbalSAT']]\n",
    "y = df['GPA']\n",
    "\n",
    "print('X:\\n', X.head(2), '\\n')\n",
    "print('y:\\n', y.head(2))"
   ]
  },
  {
   "cell_type": "markdown",
   "id": "polyphonic-withdrawal",
   "metadata": {},
   "source": [
    "### 線形回帰"
   ]
  },
  {
   "cell_type": "code",
   "execution_count": 5,
   "id": "opponent-basement",
   "metadata": {},
   "outputs": [],
   "source": [
    "from sklearn.preprocessing import StandardScaler\n",
    "from sklearn.linear_model import LinearRegression\n",
    "from sklearn.pipeline import make_pipeline\n",
    "from sklearn.metrics import mean_squared_error"
   ]
  },
  {
   "cell_type": "code",
   "execution_count": 6,
   "id": "adult-steal",
   "metadata": {},
   "outputs": [],
   "source": [
    "pipe = make_pipeline(\n",
    "    StandardScaler(),\n",
    "    LinearRegression()\n",
    ")"
   ]
  },
  {
   "cell_type": "code",
   "execution_count": 7,
   "id": "personal-segment",
   "metadata": {},
   "outputs": [
    {
     "data": {
      "text/plain": [
       "array([2.97325626, 3.05850723, 3.06556717, 3.19310365, 3.18604371,\n",
       "       3.11438096, 3.15347647, 3.01834838, 3.08287705, 3.20502273,\n",
       "       3.09919774, 3.09433861, 2.9302908 , 3.09813441, 3.10405688,\n",
       "       3.10732102, 3.19689945, 3.06070804, 3.20995601, 3.08021872,\n",
       "       3.07642292, 3.27342134, 3.21534681, 3.19310365])"
      ]
     },
     "execution_count": 7,
     "metadata": {},
     "output_type": "execute_result"
    }
   ],
   "source": [
    "y_hat = pipe.fit(X, y).predict(X)\n",
    "y_hat"
   ]
  },
  {
   "cell_type": "markdown",
   "id": "complete-digit",
   "metadata": {},
   "source": [
    "#### Pipeline を使わない場合"
   ]
  },
  {
   "cell_type": "code",
   "execution_count": 8,
   "id": "ecological-percentage",
   "metadata": {},
   "outputs": [],
   "source": [
    "sc = StandardScaler()\n",
    "X_scaled = sc.fit_transform(X)"
   ]
  },
  {
   "cell_type": "code",
   "execution_count": 9,
   "id": "sweet-breakfast",
   "metadata": {},
   "outputs": [
    {
     "data": {
      "text/plain": [
       "LinearRegression()"
      ]
     },
     "execution_count": 9,
     "metadata": {},
     "output_type": "execute_result"
    }
   ],
   "source": [
    "lr = LinearRegression()\n",
    "lr.fit(X, y)"
   ]
  },
  {
   "cell_type": "code",
   "execution_count": 10,
   "id": "suburban-evans",
   "metadata": {},
   "outputs": [
    {
     "data": {
      "text/plain": [
       "array([2.97325626, 3.05850723, 3.06556717, 3.19310365, 3.18604371,\n",
       "       3.11438096, 3.15347647, 3.01834838, 3.08287705, 3.20502273,\n",
       "       3.09919774, 3.09433861, 2.9302908 , 3.09813441, 3.10405688,\n",
       "       3.10732102, 3.19689945, 3.06070804, 3.20995601, 3.08021872,\n",
       "       3.07642292, 3.27342134, 3.21534681, 3.19310365])"
      ]
     },
     "execution_count": 10,
     "metadata": {},
     "output_type": "execute_result"
    }
   ],
   "source": [
    "y_hat = lr.predict(X)\n",
    "y_hat"
   ]
  },
  {
   "cell_type": "markdown",
   "id": "based-preservation",
   "metadata": {},
   "source": [
    "#### 可視化"
   ]
  },
  {
   "cell_type": "code",
   "execution_count": 11,
   "id": "accomplished-paint",
   "metadata": {},
   "outputs": [],
   "source": [
    "X_plot_math = np.linspace(300, 800, 501)\n",
    "X_plot_verb = np.linspace(300, 800, 501)"
   ]
  },
  {
   "cell_type": "code",
   "execution_count": 12,
   "id": "logical-fruit",
   "metadata": {},
   "outputs": [
    {
     "data": {
      "text/plain": [
       "array([[300., 301., 302., ..., 798., 799., 800.],\n",
       "       [300., 301., 302., ..., 798., 799., 800.],\n",
       "       [300., 301., 302., ..., 798., 799., 800.],\n",
       "       ...,\n",
       "       [300., 301., 302., ..., 798., 799., 800.],\n",
       "       [300., 301., 302., ..., 798., 799., 800.],\n",
       "       [300., 301., 302., ..., 798., 799., 800.]])"
      ]
     },
     "execution_count": 12,
     "metadata": {},
     "output_type": "execute_result"
    }
   ],
   "source": [
    "X_plot_math, X_plot_verb = np.meshgrid(X_plot_math, X_plot_verb)\n",
    "X_plot_math"
   ]
  },
  {
   "cell_type": "code",
   "execution_count": 13,
   "id": "distinguished-respect",
   "metadata": {},
   "outputs": [
    {
     "data": {
      "text/html": [
       "<div>\n",
       "<style scoped>\n",
       "    .dataframe tbody tr th:only-of-type {\n",
       "        vertical-align: middle;\n",
       "    }\n",
       "\n",
       "    .dataframe tbody tr th {\n",
       "        vertical-align: top;\n",
       "    }\n",
       "\n",
       "    .dataframe thead th {\n",
       "        text-align: right;\n",
       "    }\n",
       "</style>\n",
       "<table border=\"1\" class=\"dataframe\">\n",
       "  <thead>\n",
       "    <tr style=\"text-align: right;\">\n",
       "      <th></th>\n",
       "      <th>MathSAT</th>\n",
       "      <th>VerbalSAT</th>\n",
       "    </tr>\n",
       "  </thead>\n",
       "  <tbody>\n",
       "    <tr>\n",
       "      <th>0</th>\n",
       "      <td>300.0</td>\n",
       "      <td>300.0</td>\n",
       "    </tr>\n",
       "    <tr>\n",
       "      <th>1</th>\n",
       "      <td>301.0</td>\n",
       "      <td>300.0</td>\n",
       "    </tr>\n",
       "    <tr>\n",
       "      <th>2</th>\n",
       "      <td>302.0</td>\n",
       "      <td>300.0</td>\n",
       "    </tr>\n",
       "    <tr>\n",
       "      <th>3</th>\n",
       "      <td>303.0</td>\n",
       "      <td>300.0</td>\n",
       "    </tr>\n",
       "    <tr>\n",
       "      <th>4</th>\n",
       "      <td>304.0</td>\n",
       "      <td>300.0</td>\n",
       "    </tr>\n",
       "  </tbody>\n",
       "</table>\n",
       "</div>"
      ],
      "text/plain": [
       "   MathSAT  VerbalSAT\n",
       "0    300.0      300.0\n",
       "1    301.0      300.0\n",
       "2    302.0      300.0\n",
       "3    303.0      300.0\n",
       "4    304.0      300.0"
      ]
     },
     "execution_count": 13,
     "metadata": {},
     "output_type": "execute_result"
    }
   ],
   "source": [
    "X_plot = np.stack([X_plot_math.ravel(), X_plot_verb.ravel()], axis=1)\n",
    "X_plot = pd.DataFrame(X_plot, columns=['MathSAT', 'VerbalSAT'])\n",
    "X_plot.head()"
   ]
  },
  {
   "cell_type": "code",
   "execution_count": 14,
   "id": "invisible-nelson",
   "metadata": {},
   "outputs": [
    {
     "data": {
      "text/plain": [
       "array([2.94926982, 2.94889024, 2.94851066, ..., 3.30302608, 3.3026465 ,\n",
       "       3.30226692])"
      ]
     },
     "execution_count": 14,
     "metadata": {},
     "output_type": "execute_result"
    }
   ],
   "source": [
    "y_plot = lr.predict(X_plot)\n",
    "y_plot"
   ]
  },
  {
   "cell_type": "code",
   "execution_count": 15,
   "id": "likely-scheme",
   "metadata": {},
   "outputs": [
    {
     "name": "stdout",
     "output_type": "stream",
     "text": [
      "(501, 501) (501, 501) (251001,)\n"
     ]
    }
   ],
   "source": [
    "print(X_plot_math.shape, X_plot_verb.shape, y_plot.shape)"
   ]
  },
  {
   "cell_type": "code",
   "execution_count": 16,
   "id": "delayed-orleans",
   "metadata": {},
   "outputs": [
    {
     "data": {
      "image/png": "[encoded data removed]",
      "text/plain": [
       "<Figure size 504x504 with 1 Axes>"
      ]
     },
     "metadata": {
      "needs_background": "light"
     },
     "output_type": "display_data"
    }
   ],
   "source": [
    "fig = plt.figure(figsize=(7,7))\n",
    "ax = fig.add_subplot(projection='3d')\n",
    "ax.scatter(X['MathSAT'], X['VerbalSAT'], y)\n",
    "ax.plot(X_plot_math.ravel(), X_plot_verb.ravel(), y_plot, color='red', alpha=0.1)\n",
    "ax.set_xlim([300, 800])\n",
    "ax.set_ylim([300, 800])\n",
    "ax.set_zlim([2.5, 3.8])\n",
    "ax.set_xlabel('MathSAT')\n",
    "ax.set_ylabel('VerbalSAT')\n",
    "ax.set_zlabel('GPA')\n",
    "ax.set_title('Blue points are real data. Red plane is predictions.')\n",
    "plt.show()"
   ]
  },
  {
   "cell_type": "code",
   "execution_count": 17,
   "id": "insured-victim",
   "metadata": {},
   "outputs": [
    {
     "data": {
      "text/plain": [
       "array([-0.00037958,  0.00108557])"
      ]
     },
     "execution_count": 17,
     "metadata": {},
     "output_type": "execute_result"
    }
   ],
   "source": [
    "lr.coef_"
   ]
  },
  {
   "cell_type": "code",
   "execution_count": 18,
   "id": "downtown-novel",
   "metadata": {},
   "outputs": [
    {
     "data": {
      "image/png": "[encoded data removed]",
      "text/plain": [
       "<Figure size 432x288 with 1 Axes>"
      ]
     },
     "metadata": {
      "needs_background": "light"
     },
     "output_type": "display_data"
    }
   ],
   "source": [
    "residuals = y - y_hat\n",
    "\n",
    "_, ax = plt.subplots(nrows=1, ncols=1)\n",
    "ax.scatter(y_hat, residuals)\n",
    "ax.axhline(0, color='gray', alpha=0.5)\n",
    "ax.set_ylim([-0.75, 0.75])\n",
    "ax.set_xlim([2.9, 3.3])\n",
    "ax.set_title('Residual plot')\n",
    "ax.set_xlabel('Predicted values')\n",
    "ax.set_ylabel('Diff from true values')\n",
    "plt.show()"
   ]
  },
  {
   "cell_type": "code",
   "execution_count": 19,
   "id": "transsexual-despite",
   "metadata": {},
   "outputs": [
    {
     "data": {
      "text/plain": [
       "0.09053641670931932"
      ]
     },
     "execution_count": 19,
     "metadata": {},
     "output_type": "execute_result"
    }
   ],
   "source": [
    "mean_squared_error(y, y_hat)"
   ]
  },
  {
   "cell_type": "markdown",
   "id": "invisible-necklace",
   "metadata": {},
   "source": [
    "### 多層パーセプトロン"
   ]
  },
  {
   "cell_type": "code",
   "execution_count": 20,
   "id": "lesser-barbados",
   "metadata": {},
   "outputs": [],
   "source": [
    "import os\n",
    "import random\n",
    "import tensorflow as tf\n",
    "from sklearn.preprocessing import StandardScaler\n",
    "from sklearn.metrics import mean_squared_error"
   ]
  },
  {
   "cell_type": "code",
   "execution_count": 21,
   "id": "sudden-field",
   "metadata": {},
   "outputs": [],
   "source": [
    "def set_random_seed(seed=0):\n",
    "    tf.random.set_seed(seed)\n",
    "    np.random.seed(seed)\n",
    "    random.seed(seed)\n",
    "    os.environ[\"PYTHONHASHSEED\"] = str(seed)"
   ]
  },
  {
   "cell_type": "code",
   "execution_count": 22,
   "id": "biblical-spectacular",
   "metadata": {},
   "outputs": [
    {
     "data": {
      "text/plain": [
       "array([[-0.50150633, -1.72986502],\n",
       "       [ 0.65089119, -0.42131383],\n",
       "       [ 0.77893536, -0.30235463],\n",
       "       [ 0.13871452,  0.88723736],\n",
       "       [ 0.01067035,  0.76827816]])"
      ]
     },
     "execution_count": 22,
     "metadata": {},
     "output_type": "execute_result"
    }
   ],
   "source": [
    "X_scaled = StandardScaler().fit_transform(X)\n",
    "X_scaled[:5, :]"
   ]
  },
  {
   "cell_type": "markdown",
   "id": "digital-collector",
   "metadata": {},
   "source": [
    "#### Sequential API"
   ]
  },
  {
   "cell_type": "code",
   "execution_count": 23,
   "id": "weighted-target",
   "metadata": {},
   "outputs": [],
   "source": [
    "set_random_seed()"
   ]
  },
  {
   "cell_type": "code",
   "execution_count": 24,
   "id": "preliminary-jimmy",
   "metadata": {},
   "outputs": [],
   "source": [
    "model = tf.keras.Sequential([\n",
    "    tf.keras.layers.Dense(2, activation='relu'),\n",
    "    tf.keras.layers.Dense(1, activation=None)\n",
    "])\n",
    "model.compile(optimizer='adam', loss='mse')"
   ]
  },
  {
   "cell_type": "code",
   "execution_count": 25,
   "id": "continued-scanning",
   "metadata": {},
   "outputs": [],
   "source": [
    "epochs = 5000\n",
    "history = model.fit(X_scaled, y, epochs=epochs, verbose=0)"
   ]
  },
  {
   "cell_type": "code",
   "execution_count": 26,
   "id": "commercial-eligibility",
   "metadata": {},
   "outputs": [
    {
     "data": {
      "text/plain": [
       "[13.953712463378906,\n",
       " 13.928126335144043,\n",
       " 13.902603149414062,\n",
       " 13.877142906188965,\n",
       " 13.851746559143066,\n",
       " 13.826712608337402,\n",
       " 13.80181884765625,\n",
       " 13.777000427246094,\n",
       " 13.752257347106934,\n",
       " 13.727585792541504]"
      ]
     },
     "execution_count": 26,
     "metadata": {},
     "output_type": "execute_result"
    }
   ],
   "source": [
    "history.history['loss'][:10]"
   ]
  },
  {
   "cell_type": "code",
   "execution_count": 27,
   "id": "adjustable-standing",
   "metadata": {},
   "outputs": [
    {
     "data": {
      "image/png": "[encoded data removed]",
      "text/plain": [
       "<Figure size 432x288 with 1 Axes>"
      ]
     },
     "metadata": {
      "needs_background": "light"
     },
     "output_type": "display_data"
    }
   ],
   "source": [
    "_, ax = plt.subplots(nrows=1, ncols=1)\n",
    "ax.plot(np.arange(epochs)+1, history.history['loss'])\n",
    "ax.set_xlabel('Epochs')\n",
    "ax.set_ylabel('Loss')\n",
    "plt.show()"
   ]
  },
  {
   "cell_type": "code",
   "execution_count": 28,
   "id": "convinced-thursday",
   "metadata": {},
   "outputs": [
    {
     "name": "stdout",
     "output_type": "stream",
     "text": [
      "1/1 [==============================] - 0s 71ms/step\n"
     ]
    },
    {
     "data": {
      "text/plain": [
       "array([[3.0188742],\n",
       "       [3.0188742],\n",
       "       [3.0188742],\n",
       "       [3.0188742],\n",
       "       [3.0188742],\n",
       "       [3.0188742],\n",
       "       [3.0188742],\n",
       "       [3.0188742],\n",
       "       [3.0188742],\n",
       "       [3.0188742],\n",
       "       [3.0188742],\n",
       "       [3.0188742],\n",
       "       [3.0188742],\n",
       "       [3.0188742],\n",
       "       [3.0188742],\n",
       "       [3.0188742],\n",
       "       [3.0188742],\n",
       "       [3.0188742],\n",
       "       [3.0188742],\n",
       "       [3.0188742],\n",
       "       [3.0188742],\n",
       "       [3.0188742],\n",
       "       [3.0188742],\n",
       "       [3.0188742]], dtype=float32)"
      ]
     },
     "execution_count": 28,
     "metadata": {},
     "output_type": "execute_result"
    }
   ],
   "source": [
    "y_hat = model.predict(X_scaled)\n",
    "y_hat"
   ]
  },
  {
   "cell_type": "code",
   "execution_count": 29,
   "id": "emotional-career",
   "metadata": {},
   "outputs": [
    {
     "data": {
      "image/png": "[encoded data removed]",
      "text/plain": [
       "<Figure size 432x288 with 1 Axes>"
      ]
     },
     "metadata": {
      "needs_background": "light"
     },
     "output_type": "display_data"
    }
   ],
   "source": [
    "residuals = y - y_hat.ravel()\n",
    "\n",
    "_, ax = plt.subplots(nrows=1, ncols=1)\n",
    "ax.scatter(y_hat, residuals)\n",
    "ax.set_ylim([0, 1])\n",
    "ax.set_xlabel('Predicted values')\n",
    "ax.set_ylabel('Diff from true values')\n",
    "plt.show()"
   ]
  },
  {
   "cell_type": "code",
   "execution_count": 30,
   "id": "chicken-cosmetic",
   "metadata": {},
   "outputs": [
    {
     "data": {
      "text/plain": [
       "0.10646382341390463"
      ]
     },
     "execution_count": 30,
     "metadata": {},
     "output_type": "execute_result"
    }
   ],
   "source": [
    "mean_squared_error(y, y_hat)"
   ]
  },
  {
   "cell_type": "markdown",
   "id": "residential-burns",
   "metadata": {},
   "source": [
    "#### Functional API"
   ]
  },
  {
   "cell_type": "code",
   "execution_count": 31,
   "id": "automotive-philosophy",
   "metadata": {},
   "outputs": [],
   "source": [
    "set_random_seed()"
   ]
  },
  {
   "cell_type": "code",
   "execution_count": 32,
   "id": "fuzzy-reset",
   "metadata": {},
   "outputs": [],
   "source": [
    "inputs = tf.keras.Input(shape=(X.shape[1],))\n",
    "x = tf.keras.layers.Dense(2, activation='relu')(inputs)\n",
    "outputs = tf.keras.layers.Dense(1, activation=None)(x)"
   ]
  },
  {
   "cell_type": "code",
   "execution_count": 33,
   "id": "precious-vision",
   "metadata": {},
   "outputs": [],
   "source": [
    "model = tf.keras.Model(inputs=inputs, outputs=outputs)\n",
    "model.compile(optimizer='adam', loss='mse')"
   ]
  },
  {
   "cell_type": "code",
   "execution_count": 34,
   "id": "daily-feeding",
   "metadata": {},
   "outputs": [],
   "source": [
    "epochs = 5000\n",
    "history = model.fit(X_scaled, y, epochs=epochs, verbose=0)"
   ]
  },
  {
   "cell_type": "code",
   "execution_count": 35,
   "id": "engaged-voluntary",
   "metadata": {},
   "outputs": [
    {
     "name": "stdout",
     "output_type": "stream",
     "text": [
      "1/1 [==============================] - 0s 37ms/step\n"
     ]
    },
    {
     "data": {
      "text/plain": [
       "array([[3.0188742],\n",
       "       [3.0188742],\n",
       "       [3.0188742],\n",
       "       [3.0188742],\n",
       "       [3.0188742],\n",
       "       [3.0188742],\n",
       "       [3.0188742],\n",
       "       [3.0188742],\n",
       "       [3.0188742],\n",
       "       [3.0188742],\n",
       "       [3.0188742],\n",
       "       [3.0188742],\n",
       "       [3.0188742],\n",
       "       [3.0188742],\n",
       "       [3.0188742],\n",
       "       [3.0188742],\n",
       "       [3.0188742],\n",
       "       [3.0188742],\n",
       "       [3.0188742],\n",
       "       [3.0188742],\n",
       "       [3.0188742],\n",
       "       [3.0188742],\n",
       "       [3.0188742],\n",
       "       [3.0188742]], dtype=float32)"
      ]
     },
     "execution_count": 35,
     "metadata": {},
     "output_type": "execute_result"
    }
   ],
   "source": [
    "y_hat = model.predict(X_scaled)\n",
    "y_hat"
   ]
  },
  {
   "cell_type": "code",
   "execution_count": 36,
   "id": "familiar-significance",
   "metadata": {},
   "outputs": [
    {
     "data": {
      "text/plain": [
       "0.10646382341390463"
      ]
     },
     "execution_count": 36,
     "metadata": {},
     "output_type": "execute_result"
    }
   ],
   "source": [
    "mean_squared_error(y, y_hat)"
   ]
  },
  {
   "cell_type": "markdown",
   "id": "descending-affair",
   "metadata": {},
   "source": [
    "### 勾配ブースティング"
   ]
  },
  {
   "cell_type": "code",
   "execution_count": 37,
   "id": "double-speaking",
   "metadata": {},
   "outputs": [],
   "source": [
    "import xgboost as xgb\n",
    "from sklearn.metrics import mean_squared_error"
   ]
  },
  {
   "cell_type": "code",
   "execution_count": 38,
   "id": "english-envelope",
   "metadata": {},
   "outputs": [],
   "source": [
    "dtrain = xgb.DMatrix(X, label=y)\n",
    "params = {'objective': 'reg:squarederror'}\n",
    "num_round = 10"
   ]
  },
  {
   "cell_type": "code",
   "execution_count": 39,
   "id": "measured-duncan",
   "metadata": {},
   "outputs": [],
   "source": [
    "bst = xgb.train(params, dtrain, num_round)"
   ]
  },
  {
   "cell_type": "code",
   "execution_count": 40,
   "id": "minimal-paraguay",
   "metadata": {},
   "outputs": [],
   "source": [
    "dtest = xgb.DMatrix(X)\n",
    "y_hat = bst.predict(dtest)"
   ]
  },
  {
   "cell_type": "code",
   "execution_count": 41,
   "id": "nutritional-answer",
   "metadata": {},
   "outputs": [
    {
     "data": {
      "text/plain": [
       "array([2.8653526, 2.8653526, 2.856133 , 3.2590904, 3.2590904, 2.8606453,\n",
       "       2.996611 , 2.8521414, 2.8957167, 2.820493 , 2.9655569, 3.2046025,\n",
       "       2.8957167, 3.2046025, 2.8957167, 2.9243371, 3.2590904, 3.113385 ,\n",
       "       2.6298854, 3.033816 , 2.826837 , 3.1451406, 3.2590904, 3.2590904],\n",
       "      dtype=float32)"
      ]
     },
     "execution_count": 41,
     "metadata": {},
     "output_type": "execute_result"
    }
   ],
   "source": [
    "y_hat"
   ]
  },
  {
   "cell_type": "code",
   "execution_count": 42,
   "id": "activated-sterling",
   "metadata": {},
   "outputs": [
    {
     "data": {
      "image/png": "[encoded data removed]",
      "text/plain": [
       "<Figure size 432x288 with 1 Axes>"
      ]
     },
     "metadata": {
      "needs_background": "light"
     },
     "output_type": "display_data"
    }
   ],
   "source": [
    "residuals = y - y_hat\n",
    "\n",
    "_, ax = plt.subplots(nrows=1, ncols=1)\n",
    "ax.scatter(y_hat, residuals)\n",
    "ax.axhline(0, color='gray', alpha=0.3)\n",
    "ax.set_ylim([-0.6, 0.6])\n",
    "ax.set_xlabel('Predicted values')\n",
    "ax.set_ylabel('True values')\n",
    "plt.show()"
   ]
  },
  {
   "cell_type": "code",
   "execution_count": 43,
   "id": "political-counter",
   "metadata": {},
   "outputs": [
    {
     "data": {
      "text/plain": [
       "0.04629284436052119"
      ]
     },
     "execution_count": 43,
     "metadata": {},
     "output_type": "execute_result"
    }
   ],
   "source": [
    "mean_squared_error(y, y_hat)"
   ]
  },
  {
   "cell_type": "markdown",
   "id": "present-kelly",
   "metadata": {},
   "source": [
    "#### custom metric を作成"
   ]
  },
  {
   "cell_type": "code",
   "execution_count": 44,
   "id": "altered-labor",
   "metadata": {},
   "outputs": [],
   "source": [
    "def rmse_custom(y_pred, dtrain):\n",
    "    y = dtrain.get_label()\n",
    "    return 'rmse_custom', mean_squared_error(y, y_pred) ** (1/2)"
   ]
  },
  {
   "cell_type": "code",
   "execution_count": 45,
   "id": "historical-damage",
   "metadata": {},
   "outputs": [],
   "source": [
    "dtrain = xgb.DMatrix(X, label=y)\n",
    "params = {'objective': 'reg:squarederror'}\n",
    "num_round = 10"
   ]
  },
  {
   "cell_type": "code",
   "execution_count": 46,
   "id": "latin-craps",
   "metadata": {},
   "outputs": [
    {
     "name": "stdout",
     "output_type": "stream",
     "text": [
      "[0]\tdtrain-rmse:1.88862\tdtrain-rmse_custom:1.88862\n",
      "[1]\tdtrain-rmse:1.36236\tdtrain-rmse_custom:1.36236\n",
      "[2]\tdtrain-rmse:0.99435\tdtrain-rmse_custom:0.99435\n",
      "[3]\tdtrain-rmse:0.74098\tdtrain-rmse_custom:0.74098\n",
      "[4]\tdtrain-rmse:0.56982\tdtrain-rmse_custom:0.56982\n",
      "[5]\tdtrain-rmse:0.44731\tdtrain-rmse_custom:0.44731\n",
      "[6]\tdtrain-rmse:0.36194\tdtrain-rmse_custom:0.36194\n",
      "[7]\tdtrain-rmse:0.30410\tdtrain-rmse_custom:0.30410\n",
      "[8]\tdtrain-rmse:0.25485\tdtrain-rmse_custom:0.25485\n",
      "[9]\tdtrain-rmse:0.21516\tdtrain-rmse_custom:0.21516\n"
     ]
    }
   ],
   "source": [
    "evals_result = {}\n",
    "bst = xgb.train(\n",
    "    params=params,\n",
    "    dtrain=dtrain,\n",
    "    num_boost_round=num_round,\n",
    "    feval=rmse_custom,\n",
    "    evals=[(dtrain, 'dtrain')],\n",
    "    evals_result=evals_result\n",
    ")"
   ]
  },
  {
   "cell_type": "code",
   "execution_count": null,
   "id": "german-charge",
   "metadata": {},
   "outputs": [],
   "source": []
  }
 ],
 "metadata": {
  "kernelspec": {
   "display_name": "Python 3",
   "language": "python",
   "name": "python3"
  },
  "language_info": {
   "codemirror_mode": {
    "name": "ipython",
    "version": 3
   },
   "file_extension": ".py",
   "mimetype": "text/x-python",
   "name": "python",
   "nbconvert_exporter": "python",
   "pygments_lexer": "ipython3",
   "version": "3.7.9"
  }
 },
 "nbformat": 4,
 "nbformat_minor": 5
}
