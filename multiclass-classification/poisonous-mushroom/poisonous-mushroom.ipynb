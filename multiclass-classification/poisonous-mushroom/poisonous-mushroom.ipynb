{
 "cells": [
  {
   "cell_type": "markdown",
   "id": "political-skiing",
   "metadata": {},
   "source": [
    "## 例題"
   ]
  },
  {
   "cell_type": "code",
   "execution_count": 1,
   "id": "least-athletics",
   "metadata": {},
   "outputs": [
    {
     "data": {
      "image/png": "[encoded data removed]",
      "text/plain": [
       "<IPython.core.display.Image object>"
      ]
     },
     "execution_count": 1,
     "metadata": {},
     "output_type": "execute_result"
    }
   ],
   "source": [
    "from IPython.display import Image\n",
    "Image('poisonous-mushroom.png')"
   ]
  },
  {
   "cell_type": "markdown",
   "id": "social-watson",
   "metadata": {},
   "source": [
    "## 解答"
   ]
  },
  {
   "cell_type": "code",
   "execution_count": 2,
   "id": "painful-aurora",
   "metadata": {},
   "outputs": [],
   "source": [
    "import pandas as pd\n",
    "import numpy as np"
   ]
  },
  {
   "cell_type": "code",
   "execution_count": 3,
   "id": "specified-jones",
   "metadata": {},
   "outputs": [
    {
     "data": {
      "text/html": [
       "<div>\n",
       "<style scoped>\n",
       "    .dataframe tbody tr th:only-of-type {\n",
       "        vertical-align: middle;\n",
       "    }\n",
       "\n",
       "    .dataframe tbody tr th {\n",
       "        vertical-align: top;\n",
       "    }\n",
       "\n",
       "    .dataframe thead th {\n",
       "        text-align: right;\n",
       "    }\n",
       "</style>\n",
       "<table border=\"1\" class=\"dataframe\">\n",
       "  <thead>\n",
       "    <tr style=\"text-align: right;\">\n",
       "      <th></th>\n",
       "      <th>target</th>\n",
       "      <th>shape</th>\n",
       "      <th>surface</th>\n",
       "      <th>color</th>\n",
       "    </tr>\n",
       "  </thead>\n",
       "  <tbody>\n",
       "    <tr>\n",
       "      <th>0</th>\n",
       "      <td>edible</td>\n",
       "      <td>convex</td>\n",
       "      <td>smooth</td>\n",
       "      <td>yellow</td>\n",
       "    </tr>\n",
       "    <tr>\n",
       "      <th>1</th>\n",
       "      <td>edible</td>\n",
       "      <td>bell</td>\n",
       "      <td>smooth</td>\n",
       "      <td>white</td>\n",
       "    </tr>\n",
       "    <tr>\n",
       "      <th>2</th>\n",
       "      <td>poisonous</td>\n",
       "      <td>convex</td>\n",
       "      <td>scaly</td>\n",
       "      <td>white</td>\n",
       "    </tr>\n",
       "    <tr>\n",
       "      <th>3</th>\n",
       "      <td>edible</td>\n",
       "      <td>convex</td>\n",
       "      <td>smooth</td>\n",
       "      <td>gray</td>\n",
       "    </tr>\n",
       "    <tr>\n",
       "      <th>4</th>\n",
       "      <td>edible</td>\n",
       "      <td>convex</td>\n",
       "      <td>scaly</td>\n",
       "      <td>yellow</td>\n",
       "    </tr>\n",
       "  </tbody>\n",
       "</table>\n",
       "</div>"
      ],
      "text/plain": [
       "      target   shape surface   color\n",
       "0     edible  convex  smooth  yellow\n",
       "1     edible    bell  smooth   white\n",
       "2  poisonous  convex   scaly   white\n",
       "3     edible  convex  smooth    gray\n",
       "4     edible  convex   scaly  yellow"
      ]
     },
     "execution_count": 3,
     "metadata": {},
     "output_type": "execute_result"
    }
   ],
   "source": [
    "mashroom = pd.read_csv(\"http://logopt.com/data/mashroom.csv\")\n",
    "mashroom.head()"
   ]
  },
  {
   "cell_type": "code",
   "execution_count": 4,
   "id": "vocational-transition",
   "metadata": {},
   "outputs": [
    {
     "data": {
      "text/plain": [
       "array(['yellow', 'white', 'gray', 'brown', 'red', 'pink', 'buff',\n",
       "       'purple', 'cinnamon', 'green'], dtype=object)"
      ]
     },
     "execution_count": 4,
     "metadata": {},
     "output_type": "execute_result"
    }
   ],
   "source": [
    "mashroom.color.unique()"
   ]
  },
  {
   "cell_type": "code",
   "execution_count": 5,
   "id": "metropolitan-boards",
   "metadata": {},
   "outputs": [
    {
     "data": {
      "text/html": [
       "<div>\n",
       "<style scoped>\n",
       "    .dataframe tbody tr th:only-of-type {\n",
       "        vertical-align: middle;\n",
       "    }\n",
       "\n",
       "    .dataframe tbody tr th {\n",
       "        vertical-align: top;\n",
       "    }\n",
       "\n",
       "    .dataframe thead th {\n",
       "        text-align: right;\n",
       "    }\n",
       "</style>\n",
       "<table border=\"1\" class=\"dataframe\">\n",
       "  <thead>\n",
       "    <tr style=\"text-align: right;\">\n",
       "      <th></th>\n",
       "      <th>shape</th>\n",
       "      <th>surface</th>\n",
       "      <th>color</th>\n",
       "    </tr>\n",
       "  </thead>\n",
       "  <tbody>\n",
       "    <tr>\n",
       "      <th>0</th>\n",
       "      <td>convex</td>\n",
       "      <td>smooth</td>\n",
       "      <td>yellow</td>\n",
       "    </tr>\n",
       "    <tr>\n",
       "      <th>1</th>\n",
       "      <td>bell</td>\n",
       "      <td>smooth</td>\n",
       "      <td>white</td>\n",
       "    </tr>\n",
       "    <tr>\n",
       "      <th>2</th>\n",
       "      <td>convex</td>\n",
       "      <td>scaly</td>\n",
       "      <td>white</td>\n",
       "    </tr>\n",
       "    <tr>\n",
       "      <th>3</th>\n",
       "      <td>convex</td>\n",
       "      <td>smooth</td>\n",
       "      <td>gray</td>\n",
       "    </tr>\n",
       "    <tr>\n",
       "      <th>4</th>\n",
       "      <td>convex</td>\n",
       "      <td>scaly</td>\n",
       "      <td>yellow</td>\n",
       "    </tr>\n",
       "    <tr>\n",
       "      <th>...</th>\n",
       "      <td>...</td>\n",
       "      <td>...</td>\n",
       "      <td>...</td>\n",
       "    </tr>\n",
       "    <tr>\n",
       "      <th>8118</th>\n",
       "      <td>knobbed</td>\n",
       "      <td>smooth</td>\n",
       "      <td>brown</td>\n",
       "    </tr>\n",
       "    <tr>\n",
       "      <th>8119</th>\n",
       "      <td>convex</td>\n",
       "      <td>smooth</td>\n",
       "      <td>brown</td>\n",
       "    </tr>\n",
       "    <tr>\n",
       "      <th>8120</th>\n",
       "      <td>flat</td>\n",
       "      <td>smooth</td>\n",
       "      <td>brown</td>\n",
       "    </tr>\n",
       "    <tr>\n",
       "      <th>8121</th>\n",
       "      <td>knobbed</td>\n",
       "      <td>scaly</td>\n",
       "      <td>brown</td>\n",
       "    </tr>\n",
       "    <tr>\n",
       "      <th>8122</th>\n",
       "      <td>convex</td>\n",
       "      <td>smooth</td>\n",
       "      <td>brown</td>\n",
       "    </tr>\n",
       "  </tbody>\n",
       "</table>\n",
       "<p>8123 rows × 3 columns</p>\n",
       "</div>"
      ],
      "text/plain": [
       "        shape surface   color\n",
       "0      convex  smooth  yellow\n",
       "1        bell  smooth   white\n",
       "2      convex   scaly   white\n",
       "3      convex  smooth    gray\n",
       "4      convex   scaly  yellow\n",
       "...       ...     ...     ...\n",
       "8118  knobbed  smooth   brown\n",
       "8119   convex  smooth   brown\n",
       "8120     flat  smooth   brown\n",
       "8121  knobbed   scaly   brown\n",
       "8122   convex  smooth   brown\n",
       "\n",
       "[8123 rows x 3 columns]"
      ]
     },
     "execution_count": 5,
     "metadata": {},
     "output_type": "execute_result"
    }
   ],
   "source": [
    "X = mashroom.drop(\"target\", axis=1)\n",
    "y = mashroom.target\n",
    "X"
   ]
  },
  {
   "cell_type": "markdown",
   "id": "scientific-iceland",
   "metadata": {},
   "source": [
    "### 前処理"
   ]
  },
  {
   "cell_type": "code",
   "execution_count": 6,
   "id": "weekly-therapist",
   "metadata": {},
   "outputs": [
    {
     "data": {
      "text/plain": [
       "array([0, 1])"
      ]
     },
     "execution_count": 6,
     "metadata": {},
     "output_type": "execute_result"
    }
   ],
   "source": [
    "from sklearn.preprocessing import LabelEncoder\n",
    "\n",
    "y = LabelEncoder().fit_transform(y)\n",
    "np.unique(y)"
   ]
  },
  {
   "cell_type": "code",
   "execution_count": 7,
   "id": "continent-asset",
   "metadata": {},
   "outputs": [
    {
     "name": "stdout",
     "output_type": "stream",
     "text": [
      "[[0. 0. 1. ... 0. 0. 1.]\n",
      " [1. 0. 0. ... 0. 1. 0.]\n",
      " [0. 0. 1. ... 0. 1. 0.]\n",
      " ...\n",
      " [0. 0. 0. ... 0. 0. 0.]\n",
      " [0. 0. 0. ... 0. 0. 0.]\n",
      " [0. 0. 1. ... 0. 0. 0.]]\n",
      "(8123, 20)\n"
     ]
    }
   ],
   "source": [
    "from sklearn.preprocessing import OrdinalEncoder, OneHotEncoder\n",
    "\n",
    "X_ohe = OneHotEncoder(sparse=False).fit_transform(X)\n",
    "print(X_ohe)\n",
    "print(X_ohe.shape)"
   ]
  },
  {
   "cell_type": "code",
   "execution_count": 8,
   "id": "confidential-norway",
   "metadata": {},
   "outputs": [
    {
     "name": "stdout",
     "output_type": "stream",
     "text": [
      "shape: 6 categories\n",
      "surface: 4 categories\n",
      "color: 10 categories\n",
      "total: 20\n"
     ]
    }
   ],
   "source": [
    "n_shapes = len(X['shape'].unique())\n",
    "n_surfaces = len(X['surface'].unique())\n",
    "n_colors = len(X['color'].unique())\n",
    "print(\n",
    "    f'shape: {n_shapes} categories',\n",
    "    f'surface: {n_surfaces} categories',\n",
    "    f'color: {n_colors} categories',\n",
    "    f'total: {n_shapes + n_surfaces + n_colors}',\n",
    "    sep='\\n'\n",
    ")"
   ]
  },
  {
   "cell_type": "code",
   "execution_count": 9,
   "id": "twenty-machinery",
   "metadata": {},
   "outputs": [
    {
     "name": "stdout",
     "output_type": "stream",
     "text": [
      "[[2. 3. 9.]\n",
      " [0. 3. 8.]\n",
      " [2. 2. 8.]\n",
      " ...\n",
      " [3. 3. 0.]\n",
      " [4. 2. 0.]\n",
      " [2. 3. 0.]]\n",
      "\n",
      "[array(['bell', 'conical', 'convex', 'flat', 'knobbed', 'sunken'],\n",
      "      dtype=object), array(['fibrous', 'grooves', 'scaly', 'smooth'], dtype=object), array(['brown', 'buff', 'cinnamon', 'gray', 'green', 'pink', 'purple',\n",
      "       'red', 'white', 'yellow'], dtype=object)]\n"
     ]
    }
   ],
   "source": [
    "oe = OrdinalEncoder()\n",
    "X_oe = oe.fit_transform(X)\n",
    "print(X_oe, '\\n', sep='')\n",
    "print(oe.categories_)"
   ]
  },
  {
   "cell_type": "code",
   "execution_count": 10,
   "id": "loaded-collector",
   "metadata": {},
   "outputs": [
    {
     "data": {
      "text/plain": [
       "0.6647790225286224"
      ]
     },
     "execution_count": 10,
     "metadata": {},
     "output_type": "execute_result"
    }
   ],
   "source": [
    "from sklearn.linear_model import LogisticRegression\n",
    "\n",
    "logreg = LogisticRegression(random_state=1)\n",
    "logreg.fit(X_ohe, y)\n",
    "logreg.score(X_ohe, y)"
   ]
  },
  {
   "cell_type": "code",
   "execution_count": 11,
   "id": "olive-reception",
   "metadata": {},
   "outputs": [
    {
     "data": {
      "text/plain": [
       "0.6088883417456604"
      ]
     },
     "execution_count": 11,
     "metadata": {},
     "output_type": "execute_result"
    }
   ],
   "source": [
    "logreg = LogisticRegression(random_state=1)\n",
    "logreg.fit(X_oe, y)\n",
    "logreg.score(X_oe, y)"
   ]
  }
 ],
 "metadata": {
  "kernelspec": {
   "display_name": "Python 3",
   "language": "python",
   "name": "python3"
  },
  "language_info": {
   "codemirror_mode": {
    "name": "ipython",
    "version": 3
   },
   "file_extension": ".py",
   "mimetype": "text/x-python",
   "name": "python",
   "nbconvert_exporter": "python",
   "pygments_lexer": "ipython3",
   "version": "3.7.9"
  }
 },
 "nbformat": 4,
 "nbformat_minor": 5
}
